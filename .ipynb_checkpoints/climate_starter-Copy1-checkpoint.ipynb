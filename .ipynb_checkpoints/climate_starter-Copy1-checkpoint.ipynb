{
 "cells": [
  {
   "cell_type": "code",
   "execution_count": 1,
   "metadata": {},
   "outputs": [],
   "source": [
    "%matplotlib inline\n",
    "from matplotlib import style\n",
    "style.use('fivethirtyeight')\n",
    "import matplotlib.pyplot as plt"
   ]
  },
  {
   "cell_type": "code",
   "execution_count": 2,
   "metadata": {},
   "outputs": [],
   "source": [
    "import numpy as np\n",
    "import pandas as pd"
   ]
  },
  {
   "cell_type": "code",
   "execution_count": 3,
   "metadata": {},
   "outputs": [],
   "source": [
    "import datetime as dt"
   ]
  },
  {
   "cell_type": "code",
   "execution_count": 4,
   "metadata": {},
   "outputs": [],
   "source": [
    "from sqlalchemy import create_engine, inspect, func"
   ]
  },
  {
   "cell_type": "markdown",
   "metadata": {},
   "source": [
    "# Reflect Tables into SQLAlchemy ORM"
   ]
  },
  {
   "cell_type": "code",
   "execution_count": 5,
   "metadata": {},
   "outputs": [],
   "source": [
    "# Python SQL toolkit and Object Relational Mapper\n",
    "import sqlalchemy\n",
    "from sqlalchemy.ext.automap import automap_base\n",
    "from sqlalchemy.orm import Session\n",
    "from sqlalchemy import create_engine, func"
   ]
  },
  {
   "cell_type": "code",
   "execution_count": 6,
   "metadata": {},
   "outputs": [],
   "source": [
    "engine = create_engine(\"sqlite:///Resources/hawaii.sqlite\")"
   ]
  },
  {
   "cell_type": "code",
   "execution_count": 7,
   "metadata": {},
   "outputs": [],
   "source": [
    "# reflect an existing database into a new model\n",
    "Base = automap_base()\n",
    "# reflect the tables\n",
    "Base.prepare(engine, reflect=True)"
   ]
  },
  {
   "cell_type": "code",
   "execution_count": 8,
   "metadata": {},
   "outputs": [
    {
     "data": {
      "text/plain": [
       "['measurement', 'station']"
      ]
     },
     "execution_count": 8,
     "metadata": {},
     "output_type": "execute_result"
    }
   ],
   "source": [
    "# We can view all of the classes that automap found\n",
    "Base.classes.keys()"
   ]
  },
  {
   "cell_type": "code",
   "execution_count": 9,
   "metadata": {},
   "outputs": [],
   "source": [
    "# Save references to each table\n",
    "Measurement = Base.classes.measurement\n",
    "Station = Base.classes.station"
   ]
  },
  {
   "cell_type": "code",
   "execution_count": 10,
   "metadata": {},
   "outputs": [],
   "source": [
    "# Create our session (link) from Python to the DB\n",
    "session = Session(engine)"
   ]
  },
  {
   "cell_type": "code",
   "execution_count": 11,
   "metadata": {},
   "outputs": [
    {
     "data": {
      "text/plain": [
       "['measurement', 'station']"
      ]
     },
     "execution_count": 11,
     "metadata": {},
     "output_type": "execute_result"
    }
   ],
   "source": [
    "inspector = inspect(engine)\n",
    "inspector.get_table_names()"
   ]
  },
  {
   "cell_type": "code",
   "execution_count": 12,
   "metadata": {},
   "outputs": [
    {
     "name": "stdout",
     "output_type": "stream",
     "text": [
      "id INTEGER\n",
      "station TEXT\n",
      "date TEXT\n",
      "prcp FLOAT\n",
      "tobs FLOAT\n"
     ]
    }
   ],
   "source": [
    "# Use Inspector to print the column names and types\n",
    "columns = inspector.get_columns('measurement')\n",
    "for c in columns:\n",
    "    print(c['name'], c[\"type\"])"
   ]
  },
  {
   "cell_type": "code",
   "execution_count": 13,
   "metadata": {},
   "outputs": [
    {
     "name": "stdout",
     "output_type": "stream",
     "text": [
      "id INTEGER\n",
      "station TEXT\n",
      "name TEXT\n",
      "latitude FLOAT\n",
      "longitude FLOAT\n",
      "elevation FLOAT\n"
     ]
    }
   ],
   "source": [
    "# Use Inspector to print the column names and types\n",
    "columns = inspector.get_columns('station')\n",
    "for c in columns:\n",
    "    print(c['name'], c[\"type\"])"
   ]
  },
  {
   "cell_type": "code",
   "execution_count": 14,
   "metadata": {},
   "outputs": [
    {
     "data": {
      "text/plain": [
       "[(1, 'USC00519397', '2010-01-01', 0.08, 65.0),\n",
       " (2, 'USC00519397', '2010-01-02', 0.0, 63.0),\n",
       " (3, 'USC00519397', '2010-01-03', 0.0, 74.0),\n",
       " (4, 'USC00519397', '2010-01-04', 0.0, 76.0),\n",
       " (5, 'USC00519397', '2010-01-06', None, 73.0),\n",
       " (6, 'USC00519397', '2010-01-07', 0.06, 70.0),\n",
       " (7, 'USC00519397', '2010-01-08', 0.0, 64.0),\n",
       " (8, 'USC00519397', '2010-01-09', 0.0, 68.0),\n",
       " (9, 'USC00519397', '2010-01-10', 0.0, 73.0),\n",
       " (10, 'USC00519397', '2010-01-11', 0.01, 64.0)]"
      ]
     },
     "execution_count": 14,
     "metadata": {},
     "output_type": "execute_result"
    }
   ],
   "source": [
    "# Use `engine.execute` to select and display the first 10 rows from the 'measurement' table\n",
    "engine.execute('SELECT * FROM measurement LIMIT 10').fetchall()"
   ]
  },
  {
   "cell_type": "markdown",
   "metadata": {},
   "source": [
    "# Exploratory Climate Analysis"
   ]
  },
  {
   "cell_type": "code",
   "execution_count": 15,
   "metadata": {},
   "outputs": [],
   "source": [
    "# Design a query to retrieve the last 12 months of precipitation data and plot the results\n",
    "\n",
    "# Calculate the date 1 year ago from the last data point in the database\n",
    "\n",
    "# Perform a query to retrieve the data and precipitation scores\n",
    "\n",
    "# Save the query results as a Pandas DataFrame and set the index to the date column\n",
    "\n",
    "# Sort the dataframe by date\n",
    "\n",
    "# Use Pandas Plotting with Matplotlib to plot the data\n"
   ]
  },
  {
   "cell_type": "code",
   "execution_count": 16,
   "metadata": {},
   "outputs": [
    {
     "name": "stdout",
     "output_type": "stream",
     "text": [
      "2017-08-23\n",
      "2016-08-23\n"
     ]
    }
   ],
   "source": [
    "# Design a query to retrieve the last 12 months of precipitation data and plot the results\n",
    "\n",
    "# Calculate the date 1 year ago from the last data point in the database\n",
    "maxdate = session.query(func.max(Measurement.date)).first()\n",
    "maxdate[0]\n",
    "\n",
    "#https://stackoverflow.com/questions/466345/converting-string-into-datetime\n",
    "maxDate = dt.datetime.strptime(maxdate[0], '%Y-%m-%d')\n",
    "maxDate = maxDate.date()\n",
    "print(maxDate)\n",
    "oneYearAgo = maxDate - dt.timedelta(days=365)\n",
    "print(oneYearAgo)"
   ]
  },
  {
   "cell_type": "code",
   "execution_count": 17,
   "metadata": {},
   "outputs": [
    {
     "data": {
      "text/html": [
       "<div>\n",
       "<style scoped>\n",
       "    .dataframe tbody tr th:only-of-type {\n",
       "        vertical-align: middle;\n",
       "    }\n",
       "\n",
       "    .dataframe tbody tr th {\n",
       "        vertical-align: top;\n",
       "    }\n",
       "\n",
       "    .dataframe thead th {\n",
       "        text-align: right;\n",
       "    }\n",
       "</style>\n",
       "<table border=\"1\" class=\"dataframe\">\n",
       "  <thead>\n",
       "    <tr style=\"text-align: right;\">\n",
       "      <th></th>\n",
       "      <th>date</th>\n",
       "      <th>prcp</th>\n",
       "    </tr>\n",
       "  </thead>\n",
       "  <tbody>\n",
       "    <tr>\n",
       "      <th>0</th>\n",
       "      <td>2016-08-24</td>\n",
       "      <td>0.08</td>\n",
       "    </tr>\n",
       "    <tr>\n",
       "      <th>1</th>\n",
       "      <td>2016-08-24</td>\n",
       "      <td>2.15</td>\n",
       "    </tr>\n",
       "    <tr>\n",
       "      <th>2</th>\n",
       "      <td>2016-08-24</td>\n",
       "      <td>2.28</td>\n",
       "    </tr>\n",
       "    <tr>\n",
       "      <th>3</th>\n",
       "      <td>2016-08-24</td>\n",
       "      <td>0.00</td>\n",
       "    </tr>\n",
       "    <tr>\n",
       "      <th>4</th>\n",
       "      <td>2016-08-24</td>\n",
       "      <td>1.22</td>\n",
       "    </tr>\n",
       "    <tr>\n",
       "      <th>5</th>\n",
       "      <td>2016-08-24</td>\n",
       "      <td>2.15</td>\n",
       "    </tr>\n",
       "    <tr>\n",
       "      <th>6</th>\n",
       "      <td>2016-08-24</td>\n",
       "      <td>1.45</td>\n",
       "    </tr>\n",
       "    <tr>\n",
       "      <th>7</th>\n",
       "      <td>2016-08-25</td>\n",
       "      <td>0.08</td>\n",
       "    </tr>\n",
       "    <tr>\n",
       "      <th>8</th>\n",
       "      <td>2016-08-25</td>\n",
       "      <td>0.08</td>\n",
       "    </tr>\n",
       "    <tr>\n",
       "      <th>9</th>\n",
       "      <td>2016-08-25</td>\n",
       "      <td>0.00</td>\n",
       "    </tr>\n",
       "  </tbody>\n",
       "</table>\n",
       "</div>"
      ],
      "text/plain": [
       "         date  prcp\n",
       "0  2016-08-24  0.08\n",
       "1  2016-08-24  2.15\n",
       "2  2016-08-24  2.28\n",
       "3  2016-08-24  0.00\n",
       "4  2016-08-24  1.22\n",
       "5  2016-08-24  2.15\n",
       "6  2016-08-24  1.45\n",
       "7  2016-08-25  0.08\n",
       "8  2016-08-25  0.08\n",
       "9  2016-08-25  0.00"
      ]
     },
     "execution_count": 17,
     "metadata": {},
     "output_type": "execute_result"
    }
   ],
   "source": [
    "# Perform a query to retrieve the data and precipitation scores\n",
    "precipitation_12mos = session.query(Measurement.date,Measurement.prcp).filter(Measurement.date > oneYearAgo).\\\n",
    "order_by(Measurement.date).statement\n",
    "\n",
    "df = pd.read_sql_query(precipitation_12mos, session.bind).fillna(0)\n",
    "df.head(10)"
   ]
  },
  {
   "cell_type": "code",
   "execution_count": 18,
   "metadata": {},
   "outputs": [
    {
     "data": {
      "text/html": [
       "<div>\n",
       "<style scoped>\n",
       "    .dataframe tbody tr th:only-of-type {\n",
       "        vertical-align: middle;\n",
       "    }\n",
       "\n",
       "    .dataframe tbody tr th {\n",
       "        vertical-align: top;\n",
       "    }\n",
       "\n",
       "    .dataframe thead th {\n",
       "        text-align: right;\n",
       "    }\n",
       "</style>\n",
       "<table border=\"1\" class=\"dataframe\">\n",
       "  <thead>\n",
       "    <tr style=\"text-align: right;\">\n",
       "      <th></th>\n",
       "      <th>date</th>\n",
       "      <th>prcp</th>\n",
       "    </tr>\n",
       "  </thead>\n",
       "  <tbody>\n",
       "    <tr>\n",
       "      <th>0</th>\n",
       "      <td>2016-08-24</td>\n",
       "      <td>0.08</td>\n",
       "    </tr>\n",
       "    <tr>\n",
       "      <th>1</th>\n",
       "      <td>2016-08-24</td>\n",
       "      <td>2.15</td>\n",
       "    </tr>\n",
       "    <tr>\n",
       "      <th>2</th>\n",
       "      <td>2016-08-24</td>\n",
       "      <td>2.28</td>\n",
       "    </tr>\n",
       "    <tr>\n",
       "      <th>3</th>\n",
       "      <td>2016-08-24</td>\n",
       "      <td>0.00</td>\n",
       "    </tr>\n",
       "    <tr>\n",
       "      <th>4</th>\n",
       "      <td>2016-08-24</td>\n",
       "      <td>1.22</td>\n",
       "    </tr>\n",
       "    <tr>\n",
       "      <th>5</th>\n",
       "      <td>2016-08-24</td>\n",
       "      <td>2.15</td>\n",
       "    </tr>\n",
       "    <tr>\n",
       "      <th>6</th>\n",
       "      <td>2016-08-24</td>\n",
       "      <td>1.45</td>\n",
       "    </tr>\n",
       "    <tr>\n",
       "      <th>7</th>\n",
       "      <td>2016-08-25</td>\n",
       "      <td>0.08</td>\n",
       "    </tr>\n",
       "    <tr>\n",
       "      <th>8</th>\n",
       "      <td>2016-08-25</td>\n",
       "      <td>0.08</td>\n",
       "    </tr>\n",
       "    <tr>\n",
       "      <th>9</th>\n",
       "      <td>2016-08-25</td>\n",
       "      <td>0.00</td>\n",
       "    </tr>\n",
       "  </tbody>\n",
       "</table>\n",
       "</div>"
      ],
      "text/plain": [
       "         date  prcp\n",
       "0  2016-08-24  0.08\n",
       "1  2016-08-24  2.15\n",
       "2  2016-08-24  2.28\n",
       "3  2016-08-24  0.00\n",
       "4  2016-08-24  1.22\n",
       "5  2016-08-24  2.15\n",
       "6  2016-08-24  1.45\n",
       "7  2016-08-25  0.08\n",
       "8  2016-08-25  0.08\n",
       "9  2016-08-25  0.00"
      ]
     },
     "execution_count": 18,
     "metadata": {},
     "output_type": "execute_result"
    }
   ],
   "source": [
    "# (another way) Perform a query to retrieve the data and precipitation scores\n",
    "precipitation_12mos = session.query(Measurement.date,Measurement.prcp).filter(Measurement.date > oneYearAgo).\\\n",
    "order_by(Measurement.date).all()\n",
    "#print and sort\n",
    "precipitation_12mos_df = pd.DataFrame(precipitation_12mos).fillna(0)\n",
    "precipitation_12mos_df.sort_values('date').head(10)"
   ]
  },
  {
   "cell_type": "code",
   "execution_count": 19,
   "metadata": {},
   "outputs": [
    {
     "data": {
      "text/html": [
       "<div>\n",
       "<style scoped>\n",
       "    .dataframe tbody tr th:only-of-type {\n",
       "        vertical-align: middle;\n",
       "    }\n",
       "\n",
       "    .dataframe tbody tr th {\n",
       "        vertical-align: top;\n",
       "    }\n",
       "\n",
       "    .dataframe thead th {\n",
       "        text-align: right;\n",
       "    }\n",
       "</style>\n",
       "<table border=\"1\" class=\"dataframe\">\n",
       "  <thead>\n",
       "    <tr style=\"text-align: right;\">\n",
       "      <th></th>\n",
       "      <th>prcp</th>\n",
       "    </tr>\n",
       "    <tr>\n",
       "      <th>date</th>\n",
       "      <th></th>\n",
       "    </tr>\n",
       "  </thead>\n",
       "  <tbody>\n",
       "    <tr>\n",
       "      <th>2016-08-24</th>\n",
       "      <td>0.08</td>\n",
       "    </tr>\n",
       "    <tr>\n",
       "      <th>2016-08-24</th>\n",
       "      <td>2.15</td>\n",
       "    </tr>\n",
       "    <tr>\n",
       "      <th>2016-08-24</th>\n",
       "      <td>2.28</td>\n",
       "    </tr>\n",
       "    <tr>\n",
       "      <th>2016-08-24</th>\n",
       "      <td>0.00</td>\n",
       "    </tr>\n",
       "    <tr>\n",
       "      <th>2016-08-24</th>\n",
       "      <td>1.22</td>\n",
       "    </tr>\n",
       "  </tbody>\n",
       "</table>\n",
       "</div>"
      ],
      "text/plain": [
       "            prcp\n",
       "date            \n",
       "2016-08-24  0.08\n",
       "2016-08-24  2.15\n",
       "2016-08-24  2.28\n",
       "2016-08-24  0.00\n",
       "2016-08-24  1.22"
      ]
     },
     "execution_count": 19,
     "metadata": {},
     "output_type": "execute_result"
    }
   ],
   "source": [
    "# Save the query results as a Pandas DataFrame and set the index to the date column\n",
    "precipitation_12mos_df.set_index('date').head()"
   ]
  },
  {
   "cell_type": "code",
   "execution_count": 20,
   "metadata": {},
   "outputs": [
    {
     "data": {
      "image/png": "[encoded data removed]",
      "text/plain": [
       "<Figure size 432x288 with 1 Axes>"
      ]
     },
     "metadata": {
      "needs_background": "light"
     },
     "output_type": "display_data"
    }
   ],
   "source": [
    "# plot the dataframe\n",
    "precipitation_12mos_df.plot('date', 'prcp')\n",
    "plt.xlabel(\"Date\")\n",
    "plt.ylabel(\"Precipitation in Inches\")\n",
    "plt.title(\"Precipitation Analysis (8/24/16 to 8/23/17)\")\n",
    "plt.legend([\"Precipitation\"])\n",
    "plt.xticks(rotation=45)\n",
    "plt.tight_layout()\n",
    "plt.show()"
   ]
  },
  {
   "cell_type": "code",
   "execution_count": 21,
   "metadata": {},
   "outputs": [
    {
     "data": {
      "text/html": [
       "<div>\n",
       "<style scoped>\n",
       "    .dataframe tbody tr th:only-of-type {\n",
       "        vertical-align: middle;\n",
       "    }\n",
       "\n",
       "    .dataframe tbody tr th {\n",
       "        vertical-align: top;\n",
       "    }\n",
       "\n",
       "    .dataframe thead th {\n",
       "        text-align: right;\n",
       "    }\n",
       "</style>\n",
       "<table border=\"1\" class=\"dataframe\">\n",
       "  <thead>\n",
       "    <tr style=\"text-align: right;\">\n",
       "      <th></th>\n",
       "      <th>prcp</th>\n",
       "    </tr>\n",
       "  </thead>\n",
       "  <tbody>\n",
       "    <tr>\n",
       "      <th>count</th>\n",
       "      <td>2223.000000</td>\n",
       "    </tr>\n",
       "    <tr>\n",
       "      <th>mean</th>\n",
       "      <td>0.159951</td>\n",
       "    </tr>\n",
       "    <tr>\n",
       "      <th>std</th>\n",
       "      <td>0.441220</td>\n",
       "    </tr>\n",
       "    <tr>\n",
       "      <th>min</th>\n",
       "      <td>0.000000</td>\n",
       "    </tr>\n",
       "    <tr>\n",
       "      <th>25%</th>\n",
       "      <td>0.000000</td>\n",
       "    </tr>\n",
       "    <tr>\n",
       "      <th>50%</th>\n",
       "      <td>0.010000</td>\n",
       "    </tr>\n",
       "    <tr>\n",
       "      <th>75%</th>\n",
       "      <td>0.110000</td>\n",
       "    </tr>\n",
       "    <tr>\n",
       "      <th>max</th>\n",
       "      <td>6.700000</td>\n",
       "    </tr>\n",
       "  </tbody>\n",
       "</table>\n",
       "</div>"
      ],
      "text/plain": [
       "              prcp\n",
       "count  2223.000000\n",
       "mean      0.159951\n",
       "std       0.441220\n",
       "min       0.000000\n",
       "25%       0.000000\n",
       "50%       0.010000\n",
       "75%       0.110000\n",
       "max       6.700000"
      ]
     },
     "execution_count": 21,
     "metadata": {},
     "output_type": "execute_result"
    }
   ],
   "source": [
    "# Use Pandas to calcualte the summary statistics for the precipitation data\n",
    "precipitation_12mos_df.describe()"
   ]
  },
  {
   "cell_type": "code",
   "execution_count": 22,
   "metadata": {},
   "outputs": [
    {
     "name": "stdout",
     "output_type": "stream",
     "text": [
      "There are 9 stations in the dataset\n"
     ]
    }
   ],
   "source": [
    "# Design a query to show how many stations are available in this dataset?\n",
    "stations = session.query(Station.name).distinct().all()\n",
    "#stations\n",
    "station_count = session.query(Station.name).count()\n",
    "print(\"There are {} stations in the dataset\".format(station_count))"
   ]
  },
  {
   "cell_type": "code",
   "execution_count": 23,
   "metadata": {},
   "outputs": [
    {
     "name": "stdout",
     "output_type": "stream",
     "text": [
      "USC00519281 2772\n",
      "USC00519397 2724\n",
      "USC00513117 2709\n",
      "USC00519523 2669\n",
      "USC00516128 2612\n",
      "USC00514830 2202\n",
      "USC00511918 1979\n",
      "USC00517948 1372\n",
      "USC00518838 511\n",
      "The most active station is USC00519281 with 2772 activity.\n"
     ]
    }
   ],
   "source": [
    "# What are the most active stations? (i.e. what stations have the most rows)?\n",
    "# List the stations and the counts in descending order.\n",
    "station_activity = session.query(Measurement.station, func.count(Measurement.tobs)).\\\n",
    "    group_by(Measurement.station).order_by(func.count(Measurement.tobs).desc()).all()\n",
    "for station,count in station_activity:\n",
    "             print(station,count)\n",
    "        \n",
    "most_active_station = station_activity[0][0]\n",
    "activity = station_activity[0][1]\n",
    "print(f\"The most active station is {most_active_station} with {activity} activity.\")"
   ]
  },
  {
   "cell_type": "code",
   "execution_count": 24,
   "metadata": {},
   "outputs": [
    {
     "name": "stdout",
     "output_type": "stream",
     "text": [
      "USC00519281 2013-01-16 54.0\n",
      "USC00519281 2015-01-05 56.0\n",
      "USC00519281 2015-02-15 56.0\n",
      "USC00519281 2015-03-13 56.0\n",
      "USC00519281 2016-02-08 56.0\n",
      "Lowest temperature recorded for station USC00519281 is 54.0.\n",
      "Highest temperature recorded for station USC00519281 is 85.0.\n",
      "Average temperature for station USC00519281 is 71.66378066378067.\n"
     ]
    }
   ],
   "source": [
    "# Using the station id from the previous query, calculate the lowest temperature recorded, \n",
    "# highest temperature recorded, and average temperature most active station?\n",
    "temperature = session.query(Measurement.station,Measurement.date, Measurement.tobs).\\\n",
    "filter(Measurement.station == most_active_station).\\\n",
    "order_by(Measurement.tobs).limit(5)\n",
    "for station, date, temp in temperature:\n",
    "    print(station,date,temp)\n",
    "    \n",
    "temp_lowest = session.query(Measurement.station,Measurement.date,func.min(Measurement.tobs)).\\\n",
    "filter(Measurement.station == most_active_station).first()\n",
    "print(f'Lowest temperature recorded for station {temp_lowest[0]} is {temp_lowest[2]}.')\n",
    "\n",
    "temp_highest = session.query(Measurement.station,Measurement.date,func.max(Measurement.tobs)).\\\n",
    "filter(Measurement.station == most_active_station).first()\n",
    "print(f'Highest temperature recorded for station {temp_highest[0]} is {temp_highest[2]}.')\n",
    "\n",
    "temp_avg = session.query(Measurement.station,Measurement.date,func.avg(Measurement.tobs)).\\\n",
    "filter(Measurement.station == most_active_station).first()\n",
    "print(f'Average temperature for station {temp_avg[0]} is {temp_avg[2]}.')\n"
   ]
  },
  {
   "cell_type": "code",
   "execution_count": 25,
   "metadata": {},
   "outputs": [
    {
     "name": "stdout",
     "output_type": "stream",
     "text": [
      "USC00519281 2016-08-24 77.0\n",
      "USC00519281 2016-08-25 80.0\n",
      "USC00519281 2016-08-26 80.0\n",
      "USC00519281 2016-08-27 75.0\n",
      "USC00519281 2016-08-28 73.0\n",
      "USC00519281 2016-08-29 78.0\n",
      "USC00519281 2016-08-30 77.0\n",
      "USC00519281 2016-08-31 78.0\n",
      "USC00519281 2016-09-01 80.0\n",
      "USC00519281 2016-09-02 80.0\n",
      "USC00519281 2016-09-03 78.0\n",
      "USC00519281 2016-09-04 78.0\n",
      "USC00519281 2016-09-05 78.0\n",
      "USC00519281 2016-09-06 73.0\n",
      "USC00519281 2016-09-07 74.0\n",
      "USC00519281 2016-09-08 80.0\n",
      "USC00519281 2016-09-09 79.0\n",
      "USC00519281 2016-09-10 77.0\n",
      "USC00519281 2016-09-11 80.0\n",
      "USC00519281 2016-09-12 76.0\n",
      "USC00519281 2016-09-13 79.0\n",
      "USC00519281 2016-09-14 75.0\n",
      "USC00519281 2016-09-15 79.0\n",
      "USC00519281 2016-09-16 78.0\n",
      "USC00519281 2016-09-17 79.0\n",
      "USC00519281 2016-09-18 78.0\n",
      "USC00519281 2016-09-19 78.0\n",
      "USC00519281 2016-09-20 76.0\n",
      "USC00519281 2016-09-21 74.0\n",
      "USC00519281 2016-09-22 77.0\n",
      "USC00519281 2016-09-23 78.0\n",
      "USC00519281 2016-09-24 79.0\n",
      "USC00519281 2016-09-25 79.0\n",
      "USC00519281 2016-09-26 77.0\n",
      "USC00519281 2016-09-27 80.0\n",
      "USC00519281 2016-09-28 78.0\n",
      "USC00519281 2016-09-29 78.0\n",
      "USC00519281 2016-09-30 78.0\n",
      "USC00519281 2016-10-01 77.0\n",
      "USC00519281 2016-10-02 79.0\n",
      "USC00519281 2016-10-03 79.0\n",
      "USC00519281 2016-10-04 79.0\n",
      "USC00519281 2016-10-05 79.0\n",
      "USC00519281 2016-10-06 75.0\n",
      "USC00519281 2016-10-07 76.0\n",
      "USC00519281 2016-10-08 73.0\n",
      "USC00519281 2016-10-09 72.0\n",
      "USC00519281 2016-10-10 71.0\n",
      "USC00519281 2016-10-11 77.0\n",
      "USC00519281 2016-10-12 79.0\n",
      "USC00519281 2016-10-13 78.0\n",
      "USC00519281 2016-10-14 79.0\n",
      "USC00519281 2016-10-15 77.0\n",
      "USC00519281 2016-10-16 79.0\n",
      "USC00519281 2016-10-17 77.0\n",
      "USC00519281 2016-10-18 78.0\n",
      "USC00519281 2016-10-19 78.0\n",
      "USC00519281 2016-10-20 78.0\n",
      "USC00519281 2016-10-21 78.0\n",
      "USC00519281 2016-10-22 77.0\n",
      "USC00519281 2016-10-23 74.0\n",
      "USC00519281 2016-10-24 75.0\n",
      "USC00519281 2016-10-25 76.0\n",
      "USC00519281 2016-10-26 73.0\n",
      "USC00519281 2016-10-27 76.0\n",
      "USC00519281 2016-10-28 74.0\n",
      "USC00519281 2016-10-29 77.0\n",
      "USC00519281 2016-10-30 76.0\n",
      "USC00519281 2016-10-31 76.0\n",
      "USC00519281 2016-11-01 74.0\n",
      "USC00519281 2016-11-02 75.0\n",
      "USC00519281 2016-11-03 75.0\n",
      "USC00519281 2016-11-04 75.0\n",
      "USC00519281 2016-11-05 75.0\n",
      "USC00519281 2016-11-06 71.0\n",
      "USC00519281 2016-11-07 63.0\n",
      "USC00519281 2016-11-08 70.0\n",
      "USC00519281 2016-11-09 68.0\n",
      "USC00519281 2016-11-10 67.0\n",
      "USC00519281 2016-11-11 77.0\n",
      "USC00519281 2016-11-12 74.0\n",
      "USC00519281 2016-11-13 77.0\n",
      "USC00519281 2016-11-14 76.0\n",
      "USC00519281 2016-11-15 76.0\n",
      "USC00519281 2016-11-16 75.0\n",
      "USC00519281 2016-11-17 76.0\n",
      "USC00519281 2016-11-18 75.0\n",
      "USC00519281 2016-11-19 73.0\n",
      "USC00519281 2016-11-20 75.0\n",
      "USC00519281 2016-11-21 73.0\n",
      "USC00519281 2016-11-22 75.0\n",
      "USC00519281 2016-11-23 74.0\n",
      "USC00519281 2016-11-24 75.0\n",
      "USC00519281 2016-11-25 74.0\n",
      "USC00519281 2016-11-26 75.0\n",
      "USC00519281 2016-11-27 73.0\n",
      "USC00519281 2016-11-28 75.0\n",
      "USC00519281 2016-11-29 73.0\n",
      "USC00519281 2016-11-30 73.0\n",
      "USC00519281 2016-12-01 74.0\n",
      "USC00519281 2016-12-02 70.0\n",
      "USC00519281 2016-12-03 72.0\n",
      "USC00519281 2016-12-04 70.0\n",
      "USC00519281 2016-12-05 67.0\n",
      "USC00519281 2016-12-06 67.0\n",
      "USC00519281 2016-12-07 69.0\n",
      "USC00519281 2016-12-08 70.0\n",
      "USC00519281 2016-12-09 68.0\n",
      "USC00519281 2016-12-10 69.0\n",
      "USC00519281 2016-12-11 69.0\n",
      "USC00519281 2016-12-12 66.0\n",
      "USC00519281 2016-12-13 65.0\n",
      "USC00519281 2016-12-14 68.0\n",
      "USC00519281 2016-12-15 62.0\n",
      "USC00519281 2016-12-16 75.0\n",
      "USC00519281 2016-12-17 70.0\n",
      "USC00519281 2016-12-18 69.0\n",
      "USC00519281 2016-12-19 76.0\n",
      "USC00519281 2016-12-20 76.0\n",
      "USC00519281 2016-12-21 74.0\n",
      "USC00519281 2016-12-22 73.0\n",
      "USC00519281 2016-12-23 71.0\n",
      "USC00519281 2016-12-24 74.0\n",
      "USC00519281 2016-12-25 74.0\n",
      "USC00519281 2016-12-26 72.0\n",
      "USC00519281 2016-12-27 71.0\n",
      "USC00519281 2016-12-28 72.0\n",
      "USC00519281 2016-12-29 74.0\n",
      "USC00519281 2016-12-30 69.0\n",
      "USC00519281 2016-12-31 67.0\n",
      "USC00519281 2017-01-01 72.0\n",
      "USC00519281 2017-01-02 70.0\n",
      "USC00519281 2017-01-03 64.0\n",
      "USC00519281 2017-01-04 63.0\n",
      "USC00519281 2017-01-05 63.0\n",
      "USC00519281 2017-01-06 62.0\n",
      "USC00519281 2017-01-07 70.0\n",
      "USC00519281 2017-01-08 70.0\n",
      "USC00519281 2017-01-09 62.0\n",
      "USC00519281 2017-01-10 62.0\n",
      "USC00519281 2017-01-11 63.0\n",
      "USC00519281 2017-01-12 65.0\n",
      "USC00519281 2017-01-13 69.0\n",
      "USC00519281 2017-01-14 77.0\n",
      "USC00519281 2017-01-15 70.0\n",
      "USC00519281 2017-01-16 74.0\n",
      "USC00519281 2017-01-17 69.0\n",
      "USC00519281 2017-01-18 72.0\n",
      "USC00519281 2017-01-19 71.0\n",
      "USC00519281 2017-01-20 69.0\n",
      "USC00519281 2017-01-21 71.0\n",
      "USC00519281 2017-01-22 71.0\n",
      "USC00519281 2017-01-23 72.0\n",
      "USC00519281 2017-01-24 72.0\n",
      "USC00519281 2017-01-25 69.0\n",
      "USC00519281 2017-01-26 70.0\n",
      "USC00519281 2017-01-27 66.0\n",
      "USC00519281 2017-01-28 65.0\n",
      "USC00519281 2017-01-29 69.0\n",
      "USC00519281 2017-01-30 68.0\n",
      "USC00519281 2017-01-31 68.0\n",
      "USC00519281 2017-02-01 68.0\n",
      "USC00519281 2017-02-02 59.0\n",
      "USC00519281 2017-02-03 60.0\n",
      "USC00519281 2017-02-04 70.0\n",
      "USC00519281 2017-02-05 73.0\n",
      "USC00519281 2017-02-06 75.0\n",
      "USC00519281 2017-02-07 64.0\n",
      "USC00519281 2017-02-08 59.0\n",
      "USC00519281 2017-02-09 59.0\n",
      "USC00519281 2017-02-10 62.0\n",
      "USC00519281 2017-02-11 68.0\n",
      "USC00519281 2017-02-12 70.0\n",
      "USC00519281 2017-02-13 73.0\n",
      "USC00519281 2017-02-14 79.0\n",
      "USC00519281 2017-02-15 75.0\n",
      "USC00519281 2017-02-16 65.0\n",
      "USC00519281 2017-02-17 70.0\n",
      "USC00519281 2017-02-18 74.0\n",
      "USC00519281 2017-02-19 70.0\n",
      "USC00519281 2017-02-20 70.0\n",
      "USC00519281 2017-02-21 71.0\n",
      "USC00519281 2017-02-22 71.0\n",
      "USC00519281 2017-02-23 71.0\n",
      "USC00519281 2017-02-24 69.0\n",
      "USC00519281 2017-02-25 61.0\n",
      "USC00519281 2017-02-26 67.0\n",
      "USC00519281 2017-02-27 65.0\n",
      "USC00519281 2017-02-28 72.0\n",
      "USC00519281 2017-03-01 71.0\n",
      "USC00519281 2017-03-02 73.0\n",
      "USC00519281 2017-03-03 72.0\n",
      "USC00519281 2017-03-04 77.0\n",
      "USC00519281 2017-03-05 73.0\n",
      "USC00519281 2017-03-06 67.0\n",
      "USC00519281 2017-03-07 62.0\n",
      "USC00519281 2017-03-08 64.0\n",
      "USC00519281 2017-03-09 67.0\n",
      "USC00519281 2017-03-10 66.0\n",
      "USC00519281 2017-03-11 81.0\n",
      "USC00519281 2017-03-12 69.0\n",
      "USC00519281 2017-03-13 66.0\n",
      "USC00519281 2017-03-14 67.0\n",
      "USC00519281 2017-03-15 69.0\n",
      "USC00519281 2017-03-16 66.0\n",
      "USC00519281 2017-03-17 68.0\n",
      "USC00519281 2017-03-18 65.0\n",
      "USC00519281 2017-03-19 74.0\n",
      "USC00519281 2017-03-20 69.0\n",
      "USC00519281 2017-03-21 72.0\n",
      "USC00519281 2017-03-22 73.0\n",
      "USC00519281 2017-03-23 72.0\n",
      "USC00519281 2017-03-24 71.0\n",
      "USC00519281 2017-03-25 76.0\n",
      "USC00519281 2017-03-26 77.0\n",
      "USC00519281 2017-03-27 76.0\n",
      "USC00519281 2017-03-28 74.0\n",
      "USC00519281 2017-03-29 68.0\n",
      "USC00519281 2017-03-30 73.0\n",
      "USC00519281 2017-03-31 71.0\n",
      "USC00519281 2017-04-01 74.0\n",
      "USC00519281 2017-04-02 75.0\n",
      "USC00519281 2017-04-03 70.0\n",
      "USC00519281 2017-04-04 67.0\n",
      "USC00519281 2017-04-05 71.0\n",
      "USC00519281 2017-04-06 67.0\n",
      "USC00519281 2017-04-07 74.0\n",
      "USC00519281 2017-04-08 77.0\n",
      "USC00519281 2017-04-09 78.0\n",
      "USC00519281 2017-04-10 67.0\n",
      "USC00519281 2017-04-11 70.0\n",
      "USC00519281 2017-04-12 69.0\n",
      "USC00519281 2017-04-13 69.0\n",
      "USC00519281 2017-04-14 74.0\n",
      "USC00519281 2017-04-15 78.0\n",
      "USC00519281 2017-04-16 71.0\n",
      "USC00519281 2017-04-17 67.0\n",
      "USC00519281 2017-04-18 68.0\n",
      "USC00519281 2017-04-19 67.0\n",
      "USC00519281 2017-04-20 76.0\n",
      "USC00519281 2017-04-21 69.0\n",
      "USC00519281 2017-04-22 72.0\n",
      "USC00519281 2017-04-23 76.0\n",
      "USC00519281 2017-04-24 68.0\n",
      "USC00519281 2017-04-25 72.0\n",
      "USC00519281 2017-04-26 74.0\n",
      "USC00519281 2017-04-27 70.0\n",
      "USC00519281 2017-04-28 67.0\n",
      "USC00519281 2017-04-29 72.0\n",
      "USC00519281 2017-04-30 60.0\n",
      "USC00519281 2017-05-01 65.0\n",
      "USC00519281 2017-05-02 75.0\n",
      "USC00519281 2017-05-03 70.0\n",
      "USC00519281 2017-05-04 75.0\n",
      "USC00519281 2017-05-05 70.0\n",
      "USC00519281 2017-05-06 79.0\n",
      "USC00519281 2017-05-07 75.0\n",
      "USC00519281 2017-05-08 70.0\n",
      "USC00519281 2017-05-09 67.0\n",
      "USC00519281 2017-05-10 74.0\n",
      "USC00519281 2017-05-11 70.0\n",
      "USC00519281 2017-05-12 75.0\n",
      "USC00519281 2017-05-13 76.0\n",
      "USC00519281 2017-05-14 77.0\n",
      "USC00519281 2017-05-15 74.0\n",
      "USC00519281 2017-05-16 74.0\n",
      "USC00519281 2017-05-17 74.0\n",
      "USC00519281 2017-05-18 69.0\n",
      "USC00519281 2017-05-19 68.0\n",
      "USC00519281 2017-05-20 76.0\n",
      "USC00519281 2017-05-21 74.0\n",
      "USC00519281 2017-05-22 71.0\n",
      "USC00519281 2017-05-23 71.0\n",
      "USC00519281 2017-05-24 74.0\n",
      "USC00519281 2017-05-25 74.0\n",
      "USC00519281 2017-05-26 74.0\n",
      "USC00519281 2017-05-27 74.0\n",
      "USC00519281 2017-05-28 80.0\n",
      "USC00519281 2017-05-29 74.0\n",
      "USC00519281 2017-05-30 72.0\n",
      "USC00519281 2017-05-31 75.0\n",
      "USC00519281 2017-06-01 80.0\n",
      "USC00519281 2017-06-02 76.0\n",
      "USC00519281 2017-06-03 76.0\n",
      "USC00519281 2017-06-04 77.0\n",
      "USC00519281 2017-06-05 75.0\n",
      "USC00519281 2017-06-06 75.0\n",
      "USC00519281 2017-06-07 75.0\n",
      "USC00519281 2017-06-08 75.0\n",
      "USC00519281 2017-06-09 72.0\n",
      "USC00519281 2017-06-10 74.0\n",
      "USC00519281 2017-06-11 74.0\n",
      "USC00519281 2017-06-12 74.0\n",
      "USC00519281 2017-06-13 76.0\n",
      "USC00519281 2017-06-14 74.0\n",
      "USC00519281 2017-06-15 75.0\n",
      "USC00519281 2017-06-16 73.0\n",
      "USC00519281 2017-06-17 79.0\n",
      "USC00519281 2017-06-18 75.0\n",
      "USC00519281 2017-06-19 72.0\n",
      "USC00519281 2017-06-20 72.0\n",
      "USC00519281 2017-06-21 74.0\n",
      "USC00519281 2017-06-22 72.0\n",
      "USC00519281 2017-06-23 72.0\n",
      "USC00519281 2017-06-24 77.0\n",
      "USC00519281 2017-06-25 71.0\n",
      "USC00519281 2017-06-26 73.0\n",
      "USC00519281 2017-06-27 76.0\n",
      "USC00519281 2017-06-28 77.0\n",
      "USC00519281 2017-06-29 76.0\n",
      "USC00519281 2017-06-30 76.0\n",
      "USC00519281 2017-07-01 79.0\n",
      "USC00519281 2017-07-02 81.0\n",
      "USC00519281 2017-07-03 76.0\n",
      "USC00519281 2017-07-04 78.0\n",
      "USC00519281 2017-07-05 77.0\n",
      "USC00519281 2017-07-06 74.0\n",
      "USC00519281 2017-07-07 75.0\n",
      "USC00519281 2017-07-08 78.0\n",
      "USC00519281 2017-07-09 78.0\n",
      "USC00519281 2017-07-10 69.0\n",
      "USC00519281 2017-07-11 72.0\n",
      "USC00519281 2017-07-12 74.0\n",
      "USC00519281 2017-07-13 74.0\n",
      "USC00519281 2017-07-14 76.0\n",
      "USC00519281 2017-07-15 80.0\n",
      "USC00519281 2017-07-16 80.0\n",
      "USC00519281 2017-07-17 76.0\n",
      "USC00519281 2017-07-18 76.0\n",
      "USC00519281 2017-07-19 76.0\n",
      "USC00519281 2017-07-20 77.0\n",
      "USC00519281 2017-07-21 77.0\n",
      "USC00519281 2017-07-22 77.0\n",
      "USC00519281 2017-07-23 82.0\n",
      "USC00519281 2017-07-24 75.0\n",
      "USC00519281 2017-07-25 77.0\n",
      "USC00519281 2017-07-26 75.0\n",
      "USC00519281 2017-07-27 76.0\n",
      "USC00519281 2017-07-28 81.0\n",
      "USC00519281 2017-07-29 82.0\n",
      "USC00519281 2017-07-30 81.0\n",
      "USC00519281 2017-07-31 76.0\n",
      "USC00519281 2017-08-04 77.0\n",
      "USC00519281 2017-08-05 82.0\n",
      "USC00519281 2017-08-06 83.0\n",
      "USC00519281 2017-08-13 77.0\n",
      "USC00519281 2017-08-14 77.0\n",
      "USC00519281 2017-08-15 77.0\n",
      "USC00519281 2017-08-16 76.0\n",
      "USC00519281 2017-08-17 76.0\n",
      "USC00519281 2017-08-18 79.0\n"
     ]
    }
   ],
   "source": [
    "# Choose the station with the highest number of temperature observations.\n",
    "# Query the last 12 months of temperature observation data for this station and plot the results as a histogram\n",
    "\n",
    "temp_USC00519281 = session.query(Measurement.station,Measurement.date,Measurement.tobs).\\\n",
    "filter(Measurement.station == most_active_station).\\\n",
    "filter(Measurement.date > oneYearAgo).\\\n",
    "order_by(Measurement.date).all()\n",
    "for station,date,temp in temp_USC00519281:\n",
    "    print(station,date,temp)"
   ]
  },
  {
   "cell_type": "code",
   "execution_count": 26,
   "metadata": {},
   "outputs": [
    {
     "data": {
      "image/png": "[encoded data removed]",
      "text/plain": [
       "<Figure size 432x288 with 1 Axes>"
      ]
     },
     "metadata": {
      "needs_background": "light"
     },
     "output_type": "display_data"
    }
   ],
   "source": [
    "# plot the temperature data in a histogram\n",
    "temp_df=pd.DataFrame(temp_USC00519281)\n",
    "plt.hist(temp_df['tobs'],12)\n",
    "plt.xlabel(\"Recorded Temperature\")\n",
    "plt.ylabel(\"No. of Recorded Observations\")\n",
    "plt.title(\"Station Analysis (8/24/16 to 8/23/17) for Station \" + most_active_station)\n",
    "plt.show()"
   ]
  },
  {
   "cell_type": "code",
   "execution_count": 27,
   "metadata": {},
   "outputs": [
    {
     "name": "stdout",
     "output_type": "stream",
     "text": [
      "[(62.0, 69.57142857142857, 74.0)]\n"
     ]
    }
   ],
   "source": [
    "# This function called `calc_temps` will accept start date and end date in the format '%Y-%m-%d' \n",
    "# and return the minimum, average, and maximum temperatures for that range of dates\n",
    "def calc_temps(start_date, end_date):\n",
    "    \"\"\"TMIN, TAVG, and TMAX for a list of dates.\n",
    "    \n",
    "    Args:\n",
    "        start_date (string): A date string in the format %Y-%m-%d\n",
    "        end_date (string): A date string in the format %Y-%m-%d\n",
    "        \n",
    "    Returns:\n",
    "        TMIN, TAVE, and TMAX\n",
    "    \"\"\"\n",
    "    \n",
    "    return session.query(func.min(Measurement.tobs), func.avg(Measurement.tobs), func.max(Measurement.tobs)).\\\n",
    "        filter(Measurement.date >= start_date).filter(Measurement.date <= end_date).all()\n",
    "\n",
    "# function usage example\n",
    "print(calc_temps('2012-02-28', '2012-03-05'))"
   ]
  },
  {
   "cell_type": "code",
   "execution_count": 29,
   "metadata": {},
   "outputs": [
    {
     "name": "stdout",
     "output_type": "stream",
     "text": [
      "[(71.0, 77.01980198019803, 82.0)]\n"
     ]
    }
   ],
   "source": [
    "# Use your previous function `calc_temps` to calculate the tmin, tavg, and tmax \n",
    "# for your trip using the previous year's data for those same dates.\n",
    "start_date = dt.date(2018,6,15)\n",
    "end_date = dt.date(2018,6,30)\n",
    "last_yr = dt.timedelta(days=365)\n",
    "trip_temp_prevyr = (calc_temps((start_date-last_yr),(end_date-last_yr)))\n",
    "print(trip_temp_prevyr)"
   ]
  },
  {
   "cell_type": "code",
   "execution_count": 39,
   "metadata": {},
   "outputs": [
    {
     "data": {
      "image/png": "[encoded data removed]",
      "text/plain": [
       "<Figure size 432x288 with 1 Axes>"
      ]
     },
     "metadata": {
      "needs_background": "light"
     },
     "output_type": "display_data"
    }
   ],
   "source": [
    "# Plot the results from your previous query as a bar chart. \n",
    "# Use \"Trip Avg Temp\" as your Title\n",
    "# Use the average temperature for the y value\n",
    "# Use the peak-to-peak (tmax-tmin) value as the y error bar (yerr)\n",
    "#https://pythonforundergradengineers.com/bar-plot-with-error-bars-jupyter-matplotlib.html\n",
    "peak_to_peak = trip_temp_prevyr[0][2]-trip_temp_prevyr[0][0]\n",
    "avg_temp =  trip_temp_prevyr[0][1]\n",
    "plt.bar(['Trip'],[avg_temp],yerr=[peak_to_peak])\n",
    "plt.ylabel(\"Temperature\")\n",
    "plt.title(\"Trip Avg Temp\")\n",
    "plt.xlim(-2,2)\n",
    "plt.show()\n",
    "\n",
    "\n",
    "\n"
   ]
  },
  {
   "cell_type": "code",
   "execution_count": 52,
   "metadata": {},
   "outputs": [
    {
     "data": {
      "text/html": [
       "<div>\n",
       "<style scoped>\n",
       "    .dataframe tbody tr th:only-of-type {\n",
       "        vertical-align: middle;\n",
       "    }\n",
       "\n",
       "    .dataframe tbody tr th {\n",
       "        vertical-align: top;\n",
       "    }\n",
       "\n",
       "    .dataframe thead th {\n",
       "        text-align: right;\n",
       "    }\n",
       "</style>\n",
       "<table border=\"1\" class=\"dataframe\">\n",
       "  <thead>\n",
       "    <tr style=\"text-align: right;\">\n",
       "      <th></th>\n",
       "      <th>station</th>\n",
       "      <th>date</th>\n",
       "      <th>prcp</th>\n",
       "      <th>latitude</th>\n",
       "      <th>longitude</th>\n",
       "      <th>elevation</th>\n",
       "    </tr>\n",
       "  </thead>\n",
       "  <tbody>\n",
       "    <tr>\n",
       "      <th>0</th>\n",
       "      <td>USC00516128</td>\n",
       "      <td>2017-06-15</td>\n",
       "      <td>1.69</td>\n",
       "      <td>21.33310</td>\n",
       "      <td>-157.80250</td>\n",
       "      <td>152.4</td>\n",
       "    </tr>\n",
       "    <tr>\n",
       "      <th>1</th>\n",
       "      <td>USC00516128</td>\n",
       "      <td>2017-06-18</td>\n",
       "      <td>0.70</td>\n",
       "      <td>21.33310</td>\n",
       "      <td>-157.80250</td>\n",
       "      <td>152.4</td>\n",
       "    </tr>\n",
       "    <tr>\n",
       "      <th>2</th>\n",
       "      <td>USC00519281</td>\n",
       "      <td>2017-06-15</td>\n",
       "      <td>0.55</td>\n",
       "      <td>21.45167</td>\n",
       "      <td>-157.84889</td>\n",
       "      <td>32.9</td>\n",
       "    </tr>\n",
       "    <tr>\n",
       "      <th>3</th>\n",
       "      <td>USC00516128</td>\n",
       "      <td>2017-06-23</td>\n",
       "      <td>0.50</td>\n",
       "      <td>21.33310</td>\n",
       "      <td>-157.80250</td>\n",
       "      <td>152.4</td>\n",
       "    </tr>\n",
       "    <tr>\n",
       "      <th>4</th>\n",
       "      <td>USC00516128</td>\n",
       "      <td>2017-06-25</td>\n",
       "      <td>0.50</td>\n",
       "      <td>21.33310</td>\n",
       "      <td>-157.80250</td>\n",
       "      <td>152.4</td>\n",
       "    </tr>\n",
       "  </tbody>\n",
       "</table>\n",
       "</div>"
      ],
      "text/plain": [
       "       station        date  prcp  latitude  longitude  elevation\n",
       "0  USC00516128  2017-06-15  1.69  21.33310 -157.80250      152.4\n",
       "1  USC00516128  2017-06-18  0.70  21.33310 -157.80250      152.4\n",
       "2  USC00519281  2017-06-15  0.55  21.45167 -157.84889       32.9\n",
       "3  USC00516128  2017-06-23  0.50  21.33310 -157.80250      152.4\n",
       "4  USC00516128  2017-06-25  0.50  21.33310 -157.80250      152.4"
      ]
     },
     "execution_count": 52,
     "metadata": {},
     "output_type": "execute_result"
    }
   ],
   "source": [
    "# Calculate the rainfall per weather station for your trip dates using the previous year's matching dates.\n",
    "# Sort this in descending order by precipitation amount and list the station, name, latitude, longitude, and elevation\n",
    "rainfall_station = session.query(Measurement.station,Measurement.date,Measurement.prcp,Station.latitude,Station.longitude,\\\n",
    "                                 Station.elevation).filter(Measurement.station==Station.station).\\\n",
    "filter(Measurement.date >= start_date-last_yr).\\\n",
    "filter(Measurement.date <= end_date-last_yr).\\\n",
    "order_by((Measurement.prcp).desc()).all()\n",
    "rainfall_station_df = pd.DataFrame(rainfall_station)\n",
    "rainfall_station_df.head()\n"
   ]
  },
  {
   "cell_type": "markdown",
   "metadata": {},
   "source": [
    "## Optional Challenge Assignment"
   ]
  },
  {
   "cell_type": "code",
   "execution_count": null,
   "metadata": {},
   "outputs": [],
   "source": [
    "# Create a query that will calculate the daily normals \n",
    "# (i.e. the averages for tmin, tmax, and tavg for all historic data matching a specific month and day)\n",
    "\n",
    "def daily_normals(date):\n",
    "    \"\"\"Daily Normals.\n",
    "    \n",
    "    Args:\n",
    "        date (str): A date string in the format '%m-%d'\n",
    "        \n",
    "    Returns:\n",
    "        A list of tuples containing the daily normals, tmin, tavg, and tmax\n",
    "    \n",
    "    \"\"\"\n",
    "    \n",
    "    sel = [func.min(Measurement.tobs), func.avg(Measurement.tobs), func.max(Measurement.tobs)]\n",
    "    return session.query(*sel).filter(func.strftime(\"%m-%d\", Measurement.date) == date).all()\n",
    "    \n",
    "daily_normals(\"01-01\")"
   ]
  },
  {
   "cell_type": "code",
   "execution_count": null,
   "metadata": {},
   "outputs": [],
   "source": [
    "# calculate the daily normals for your trip\n",
    "# push each tuple of calculations into a list called `normals`\n",
    "\n",
    "# Set the start and end date of the trip\n",
    "\n",
    "# Use the start and end date to create a range of dates\n",
    "\n",
    "# Stip off the year and save a list of %m-%d strings\n",
    "\n",
    "# Loop through the list of %m-%d strings and calculate the normals for each date\n"
   ]
  },
  {
   "cell_type": "code",
   "execution_count": null,
   "metadata": {},
   "outputs": [],
   "source": [
    "# Load the previous query results into a Pandas DataFrame and add the `trip_dates` range as the `date` index\n"
   ]
  },
  {
   "cell_type": "code",
   "execution_count": null,
   "metadata": {},
   "outputs": [],
   "source": [
    "# Plot the daily normals as an area plot with `stacked=False`\n"
   ]
  }
 ],
 "metadata": {
  "kernel_info": {
   "name": "python3"
  },
  "kernelspec": {
   "display_name": "Python 3",
   "language": "python",
   "name": "python3"
  },
  "language_info": {
   "codemirror_mode": {
    "name": "ipython",
    "version": 3
   },
   "file_extension": ".py",
   "mimetype": "text/x-python",
   "name": "python",
   "nbconvert_exporter": "python",
   "pygments_lexer": "ipython3",
   "version": "3.7.0"
  },
  "nteract": {
   "version": "0.9.1"
  },
  "varInspector": {
   "cols": {
    "lenName": 16,
    "lenType": 16,
    "lenVar": 40
   },
   "kernels_config": {
    "python": {
     "delete_cmd_postfix": "",
     "delete_cmd_prefix": "del ",
     "library": "var_list.py",
     "varRefreshCmd": "print(var_dic_list())"
    },
    "r": {
     "delete_cmd_postfix": ") ",
     "delete_cmd_prefix": "rm(",
     "library": "var_list.r",
     "varRefreshCmd": "cat(var_dic_list()) "
    }
   },
   "types_to_exclude": [
    "module",
    "function",
    "builtin_function_or_method",
    "instance",
    "_Feature"
   ],
   "window_display": false
  }
 },
 "nbformat": 4,
 "nbformat_minor": 2
}
